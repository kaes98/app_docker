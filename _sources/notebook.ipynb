{
 "cells": [
  {
   "cell_type": "markdown",
   "metadata": {},
   "source": [
    "# Tarea 2: Dockerizar Apps de Dash"
   ]
  },
  {
   "cell_type": "markdown",
   "metadata": {},
   "source": [
    "Dockerize los dashboard de los dos ejemplos estudiados en la sección Dos ejemplos de Dash. Esto es. Crear dos imágenes Docker para los Dash asociados con: Dash App para Mapas y Dash App Financiera. Realice cambios en el (back/front end) de los dos Dashboards. Por ejemplo, agréguele a los dashboard nuevos estilos y operaciones que puedan mejorar la visualización. Tenga en cuenta los diferentes templates usados en esta sección."
   ]
  },
  {
   "cell_type": "markdown",
   "metadata": {},
   "source": [
    "## Dash App para mapas"
   ]
  },
  {
   "cell_type": "markdown",
   "metadata": {},
   "source": [
    "Para la primera app se utilizá un conjunto de datos que contiene información sobre las enfermedades que afectan a ciertas colonias de abejas, en determinados estados en USA. la aplicación a desplegar mostrará como se distribuye en los distintos estados de Estados Unidos, el porcentaje promedio de colonias de abejas afectadas por enfermedad.\n",
    "\n",
    "A continuación se muestra el codigo completo que se usó para crear la aplicación:"
   ]
  },
  {
   "cell_type": "code",
   "execution_count": null,
   "metadata": {},
   "outputs": [],
   "source": [
    "import pandas as pd\n",
    "import plotly.express as px\n",
    "import plotly.graph_objects as go\n",
    "from dash import Dash, dcc, html, Input, Output\n",
    "\n",
    "app = Dash(__name__)\n",
    "\n",
    "df = pd.read_csv(\"https://raw.githubusercontent.com/lihkir/Uninorte/main/AppliedStatisticMS/DataVisualizationRPython/Lectures/Python/PythonDataSets/intro_bees.csv\")\n",
    "\n",
    "df = df.groupby(['State', 'ANSI', 'Affected by', 'Year', 'state_code'])[['Pct of Colonies Impacted']].mean()\n",
    "df.reset_index(inplace=True)\n",
    "print(df[:5])\n",
    "\n",
    "app.layout = html.Div([\n",
    "    html.H1(\"Porcentaje promedio de colonias de abejas afectadas por enfermedad\", style={'text-align': 'center'}),\n",
    "    html.Div(\n",
    "    dcc.Slider(id=\"slct_year\",\n",
    "                 value=2015,\n",
    "                 marks={2015: '2015',\n",
    "                        2016: '2016',\n",
    "                        2017: '2017',\n",
    "                        2018: '2018'}\n",
    "                 ), hidden=True),\n",
    "    html.Div(id='output_container', children=[]),\n",
    "    html.Br(),\n",
    "    dcc.Graph(id='my_bee_map', figure={})\n",
    "])\n",
    "\n",
    "@app.callback(\n",
    "    # [Output(component_id='output_container', component_property='children'),\n",
    "    Output(component_id='my_bee_map', component_property='figure',),\n",
    "    [Input(component_id='slct_year', component_property='value')]\n",
    ")\n",
    "def display_animated_graph(soption_slctd):\n",
    "    \n",
    "    dff = df.copy()\n",
    "    # dff = dff[dff[\"Year\"] == option_slctd]\n",
    "    dff = dff[dff[\"Affected by\"] == \"Varroa_mites\"]\n",
    "    \n",
    "    animation = px.choropleth(\n",
    "            data_frame=dff,\n",
    "            locationmode='USA-states',\n",
    "            locations='state_code',\n",
    "            scope=\"usa\",\n",
    "            color='Pct of Colonies Impacted',\n",
    "            hover_data=['State', 'Pct of Colonies Impacted'],\n",
    "            color_continuous_scale=px.colors.sequential.deep,\n",
    "            labels={'Pct of Colonies Impacted': '% of Bee Colonies'},\n",
    "            template='plotly_white',\n",
    "            animation_frame='Year',\n",
    "            animation_group=\"State\"\n",
    "            \n",
    "        )\n",
    "    \n",
    "    \n",
    "    return animation\n",
    "\n",
    "if __name__ == '__main__':\n",
    "    # app.run_server(debug=True) \n",
    "    app.run_server(debug=True, host='0.0.0.0', port=9000)"
   ]
  },
  {
   "cell_type": "markdown",
   "metadata": {},
   "source": [
    "La aplicación permite ver a través de una animación, como se distribuye el porcentaje de colonias afectadas a lo largo de los años. Con el gráfico se puede reproducir la animación o escoger manualmente el año que se desea visualizar. \n",
    "\n",
    "La aplicación al ser ejecutada, luce de la siguiente manera:"
   ]
  },
  {
   "cell_type": "markdown",
   "metadata": {},
   "source": [
    "\n",
    "```{figure} C:/Users/kaes1/Documents/DataViz/maps.png\n",
    "---\n",
    "height: 400px\n",
    "name: directive-fig\n",
    "---\n",
    "App Mapas\n",
    "```"
   ]
  },
  {
   "cell_type": "markdown",
   "metadata": {},
   "source": [
    "El paso a paso para realizar la dockerización de la app es el siguiente:\n",
    "\n"
   ]
  },
  {
   "cell_type": "markdown",
   "metadata": {},
   "source": [
    "1. Crear un entorno virtual de Python:"
   ]
  },
  {
   "cell_type": "code",
   "execution_count": null,
   "metadata": {},
   "outputs": [],
   "source": [
    "conda create --name maps_venv python=3.9"
   ]
  },
  {
   "cell_type": "markdown",
   "metadata": {},
   "source": [
    "2. Ejecutar la aplicación Dash dentro del entorno virtual:"
   ]
  },
  {
   "cell_type": "code",
   "execution_count": null,
   "metadata": {},
   "outputs": [],
   "source": [
    "python index.py"
   ]
  },
  {
   "cell_type": "markdown",
   "metadata": {},
   "source": [
    "Para este paso se descomenta la linea de codigo \"# app.run_server(debug=True)\", y se comenta \" app.run_server(debug=True, host='0.0.0.0', port=9000)\". En este paso se verifican las librerias que se deben instalar en el ambiente para que la app ejecute correctamente. Tambien se debe crear una carpeta para ubicar solo el archivo .py, y los demás archivos necesarios para crear la imagen de la app."
   ]
  },
  {
   "cell_type": "markdown",
   "metadata": {},
   "source": [
    "3. Crear un archivo de requerimientos:"
   ]
  },
  {
   "cell_type": "code",
   "execution_count": null,
   "metadata": {},
   "outputs": [],
   "source": [
    "pip list --format=freeze > requirements.txt"
   ]
  },
  {
   "cell_type": "markdown",
   "metadata": {},
   "source": [
    "4. Crear un archivo Dockerfile en la carpeta donde se encuentra el archivo .py:"
   ]
  },
  {
   "cell_type": "code",
   "execution_count": null,
   "metadata": {},
   "outputs": [],
   "source": [
    "FROM python:3.9.17\n",
    "\n",
    "COPY ./requirements.txt /requirements.txt\n",
    "\n",
    "RUN pip install --upgrade pip\n",
    "RUN pip install --no-cache-dir --upgrade -r /requirements.txt\n",
    "\n",
    "COPY ./index.py /index.py\n",
    "\n",
    "CMD [\"python\", \"index.py\"]"
   ]
  },
  {
   "cell_type": "markdown",
   "metadata": {},
   "source": [
    "5. Crear un archivo README:"
   ]
  },
  {
   "cell_type": "code",
   "execution_count": null,
   "metadata": {},
   "outputs": [],
   "source": [
    "# Execute the following commands to Dockerize the Dash application\n",
    "\n",
    "docker build -t dash_maps .\n",
    "docker run -h localhost -p 9002:9000 -d --name dash_maps dash_maps"
   ]
  },
  {
   "cell_type": "markdown",
   "metadata": {},
   "source": [
    "6. Crear la imagen Docker:"
   ]
  },
  {
   "cell_type": "code",
   "execution_count": null,
   "metadata": {},
   "outputs": [],
   "source": [
    "docker build -t dash_maps ."
   ]
  },
  {
   "cell_type": "markdown",
   "metadata": {},
   "source": [
    "7. Ejecutar la imagen Docker:"
   ]
  },
  {
   "cell_type": "code",
   "execution_count": null,
   "metadata": {},
   "outputs": [],
   "source": [
    "docker run -h localhost -p 9002:9000 -d --name dash_maps dash_maps"
   ]
  },
  {
   "cell_type": "markdown",
   "metadata": {},
   "source": [
    "## Dash App Financiera"
   ]
  },
  {
   "cell_type": "markdown",
   "metadata": {},
   "source": [
    "Para esta app se mostrarán datos del precio de distintos stocks, utilizanfo el indicador de análisis técnico, Bollinger Bands. Las Bandas de Bollinger son un indicador técnico que muestra la volatilidad de los precios de las acciones. Se pueden utilizar para identificar posibles oportunidades de compra y venta, ya que cuando los precios se encuentran fuera de las bandas, es probable que haya un cambio en la tendencia.\n",
    "\n",
    "A continuación se muestra el codigo completo que se usó para crear la aplicación:"
   ]
  },
  {
   "cell_type": "code",
   "execution_count": null,
   "metadata": {},
   "outputs": [],
   "source": [
    "from dash import Dash, dcc, html, Input, Output, State\n",
    "import colorlover as cl\n",
    "import pandas as pd\n",
    "\n",
    "app = Dash(__name__)\n",
    "\n",
    "app.scripts.config.serve_locally = False\n",
    "\n",
    "colorscale = cl.scales['9']['qual']['Paired']\n",
    "\n",
    "df = pd.read_csv('https://raw.githubusercontent.com/lihkir/Uninorte/main/AppliedStatisticMS/DataVisualizationRPython/Lectures/Python/PythonDataSets/dash-stock-ticker-demo.csv')\n",
    "\n",
    "app.layout = html.Div([\n",
    "    html.Div([\n",
    "        html.H2('Finance Explorer',\n",
    "                style={'display': 'inline',\n",
    "                       'float': 'left',\n",
    "                       'font-size': '2.65em',\n",
    "                       'margin-left': '7px',\n",
    "                       'font-weight': 'bolder',\n",
    "                       'font-family': 'system-ui',\n",
    "                       'color': \"black\",\n",
    "                       'margin-top': '20px',\n",
    "                       'margin-bottom': '0'\n",
    "                       }),\n",
    "        html.Img(src=\"https://upload.wikimedia.org/wikipedia/commons/thumb/f/ff/Logo_uninorte_colombia.jpg/1200px-Logo_uninorte_colombia.jpg\",\n",
    "                style={\n",
    "                    'height': '100px',\n",
    "                    'float': 'right'\n",
    "                },\n",
    "        ),\n",
    "    ]),\n",
    "    dcc.Dropdown(\n",
    "        id='stock-ticker-input',\n",
    "        options=[{'label': html.Span(s[0], style={'color': 'black', 'font-size': 15}), 'value': str(s[1])}\n",
    "                 for s in zip(df.Stock.unique(), df.Stock.unique())],\n",
    "        value=['YHOO', 'GOOGL'],\n",
    "        multi=True\n",
    "    ),\n",
    "    dcc.Checklist(\n",
    "        id='rangeslider-toggle',\n",
    "        options=[{'label': html.Span('Mostrar Rangeslider', style={'color': 'black', 'font-size': 15, 'font-family':'system-ui'}), 'value': 'rangeslider'}],\n",
    "        value=[],  \n",
    "    ),\n",
    "    html.Div(id='graphs')\n",
    "], className=\"container\")\n",
    "\n",
    "def bbands(price, window_size=10, num_of_std=5):\n",
    "    rolling_mean = price.rolling(window=window_size).mean()\n",
    "    rolling_std = price.rolling(window=window_size).std()\n",
    "    upper_band = rolling_mean + (rolling_std * num_of_std)\n",
    "    lower_band = rolling_mean - (rolling_std * num_of_std)\n",
    "    return rolling_mean, upper_band, lower_band\n",
    "\n",
    "@app.callback(Output('graphs', 'children'),\n",
    "              [Input('stock-ticker-input', 'value')],\n",
    "              [Input('rangeslider-toggle', 'value')])  \n",
    "def update_graph(tickers, rangeslider_option):\n",
    "    graphs = []\n",
    "\n",
    "    if not tickers:\n",
    "        graphs.append(html.H3(\n",
    "            \"Select a stock ticker.\",\n",
    "            style={'marginTop': 20, 'marginBottom': 20}\n",
    "        ))\n",
    "    else:\n",
    "        for i, ticker in enumerate(tickers):\n",
    "            dff = df[df['Stock'] == ticker]\n",
    "\n",
    "            candlestick = {\n",
    "                'x': dff['Date'],\n",
    "                'open': dff['Open'],\n",
    "                'high': dff['High'],\n",
    "                'low': dff['Low'],\n",
    "                'close': dff['Close'],\n",
    "                'type': 'candlestick',\n",
    "                'name': ticker,\n",
    "                'legendgroup': ticker\n",
    "            }\n",
    "\n",
    "            bollinger_traces = [{\n",
    "                'x': dff['Date'], 'y': y,\n",
    "                'type': 'scatter', 'mode': 'lines',\n",
    "                'line': {'width': 1, 'color': colorscale[(i * 2) % len(colorscale)]},\n",
    "                'hoverinfo': 'none',\n",
    "                'legendgroup': ticker,\n",
    "                'showlegend': True if i == 0 else False,\n",
    "                'name': '{} - bollinger bands'.format(ticker)\n",
    "            } for i, y in enumerate(bbands(dff.Close))]\n",
    "\n",
    "            layout = {\n",
    "                'margin': {'b': 20, 'r': 10, 'l': 60, 't': 20},\n",
    "                'legend': {'x': 0}\n",
    "            }\n",
    "\n",
    "            if 'rangeslider' in rangeslider_option:\n",
    "                layout['xaxis'] = {'rangeslider': {'visible': True}}\n",
    "            else:\n",
    "                layout['xaxis'] = {'rangeslider': {'visible': False}}\n",
    "\n",
    "            graphs.append(dcc.Graph(\n",
    "                id=ticker,\n",
    "                figure={'data': [candlestick] + bollinger_traces, 'layout': layout}\n",
    "            ))\n",
    "\n",
    "    return graphs\n",
    "\n",
    "if __name__ == '__main__':\n",
    "    # app.run_server(debug=True)\n",
    "    app.run_server(debug=True, host='0.0.0.0', port=9000)"
   ]
  },
  {
   "cell_type": "markdown",
   "metadata": {},
   "source": [
    "La aplicación permite ver a través de un grafico de candlestick y bandas de Bollinger como evolucionaron en un periodo de tiempo, los precios para distintos stock. Con la app se da la opción de añadir o quitar el rangeslider, el cual permite escoger un rango de tiempo especifio en el grafico. La desventaja del rangeslider, es que solo permite ver un rango fijo de fechas, por lo que al desactivar la opción, se puede hacer zoom en areas especificas del graficos para ver con mayor detalle datos de interes. \n",
    "\n",
    "La aplicación al ser ejecutada, luce de la siguiente manera:"
   ]
  },
  {
   "cell_type": "markdown",
   "metadata": {},
   "source": [
    "\n",
    "```{figure} C:/Users/kaes1/Documents/DataViz/finn1.png\n",
    "---\n",
    "height: 400px\n",
    "name: directive-fig\n",
    "---\n",
    "App Financiera - Sin Rangeslider\n",
    "```"
   ]
  },
  {
   "cell_type": "markdown",
   "metadata": {},
   "source": [
    "```{figure} C:/Users/kaes1/Documents/DataViz/finn2.png\n",
    "---\n",
    "height: 400px\n",
    "name: directive-fig\n",
    "---\n",
    "App Financiera - Con Rangeslider\n",
    "```"
   ]
  },
  {
   "cell_type": "markdown",
   "metadata": {},
   "source": [
    "El paso a paso para realizar la dockerización de la app es el siguiente:\n",
    "\n"
   ]
  },
  {
   "cell_type": "markdown",
   "metadata": {},
   "source": [
    "1. Crear un entorno virtual de Python:"
   ]
  },
  {
   "cell_type": "code",
   "execution_count": null,
   "metadata": {},
   "outputs": [],
   "source": [
    "conda create --name finn_venv python=3.9"
   ]
  },
  {
   "cell_type": "markdown",
   "metadata": {},
   "source": [
    "2. Ejecutar la aplicación Dash dentro del entorno virtual:"
   ]
  },
  {
   "cell_type": "code",
   "execution_count": null,
   "metadata": {},
   "outputs": [],
   "source": [
    "python index.py"
   ]
  },
  {
   "cell_type": "markdown",
   "metadata": {},
   "source": [
    "Para este paso se descomenta la linea de codigo \"# app.run_server(debug=True)\", y se comenta \" app.run_server(debug=True, host='0.0.0.0', port=9000)\". En este paso se verifican las librerias que se deben instalar en el ambiente para que la app ejecute correctamente. Tambien se debe crear una carpeta para ubicar solo el archivo .py, y los demás archivos necesarios para crear la imagen de la app."
   ]
  },
  {
   "cell_type": "markdown",
   "metadata": {},
   "source": [
    "3. Crear un archivo de requerimientos:"
   ]
  },
  {
   "cell_type": "code",
   "execution_count": null,
   "metadata": {},
   "outputs": [],
   "source": [
    "pip list --format=freeze > requirements.txt"
   ]
  },
  {
   "cell_type": "markdown",
   "metadata": {},
   "source": [
    "4. Crear un archivo Dockerfile en la carpeta donde se encuentra el archivo .py:"
   ]
  },
  {
   "cell_type": "code",
   "execution_count": null,
   "metadata": {},
   "outputs": [],
   "source": [
    "FROM python:3.9.17\n",
    "\n",
    "COPY ./requirements.txt /requirements.txt\n",
    "\n",
    "RUN pip install --upgrade pip\n",
    "RUN pip install --no-cache-dir --upgrade -r /requirements.txt\n",
    "\n",
    "COPY ./index.py /index.py\n",
    "\n",
    "CMD [\"python\", \"index.py\"]"
   ]
  },
  {
   "cell_type": "markdown",
   "metadata": {},
   "source": [
    "5. Crear un archivo README:"
   ]
  },
  {
   "cell_type": "code",
   "execution_count": null,
   "metadata": {},
   "outputs": [],
   "source": [
    "# Execute the following commands to Dockerize the Dash application\n",
    "\n",
    "docker build -t dash_finn .\n",
    "docker run -h localhost -p 9002:9000 -d --name dash_finn dash_finn"
   ]
  },
  {
   "cell_type": "markdown",
   "metadata": {},
   "source": [
    "6. Crear la imagen Docker:"
   ]
  },
  {
   "cell_type": "code",
   "execution_count": null,
   "metadata": {},
   "outputs": [],
   "source": [
    "docker build -t dash_finn ."
   ]
  },
  {
   "cell_type": "markdown",
   "metadata": {},
   "source": [
    "7. Ejecutar la imagen Docker:"
   ]
  },
  {
   "cell_type": "code",
   "execution_count": null,
   "metadata": {},
   "outputs": [],
   "source": [
    "docker run -h localhost -p 9002:9000 -d --name dash_finn dash_finn"
   ]
  }
 ],
 "metadata": {
  "kernelspec": {
   "display_name": "ml_venv",
   "language": "python",
   "name": "python3"
  },
  "language_info": {
   "name": "python",
   "version": "3.9.17"
  }
 },
 "nbformat": 4,
 "nbformat_minor": 2
}
